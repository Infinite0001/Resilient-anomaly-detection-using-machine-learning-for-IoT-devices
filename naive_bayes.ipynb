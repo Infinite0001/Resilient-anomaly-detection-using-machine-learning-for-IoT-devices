{
  "nbformat": 4,
  "nbformat_minor": 0,
  "metadata": {
    "colab": {
      "provenance": []
    },
    "kernelspec": {
      "name": "python3",
      "display_name": "Python 3"
    },
    "language_info": {
      "name": "python"
    }
  },
  "cells": [
    {
      "cell_type": "code",
      "execution_count": null,
      "metadata": {
        "id": "Cy8MVX9F_Yfu"
      },
      "outputs": [],
      "source": [
        "ASimport pandas as pd\n",
        "from sklearn.svm import SVC\n",
        "from sklearn.model_selection import GridSearchCV\n",
        "from sklearn.metrics import classification_report, confusion_matrix\n",
        "from sklearn.model_selection import train_test_split\n",
        "import time\n",
        "import numpy as np"
      ]
    },
    {
      "cell_type": "code",
      "source": [
        "filepath = \"iot23_combined.csv\""
      ],
      "metadata": {
        "id": "nnbEpcHh_eFK"
      },
      "execution_count": null,
      "outputs": []
    },
    {
      "cell_type": "code",
      "source": [
        "df = pd.read_csv(filepath)"
      ],
      "metadata": {
        "id": "aa_5rzhJ_gFt"
      },
      "execution_count": null,
      "outputs": []
    },
    {
      "cell_type": "code",
      "source": [
        "del df['Unnamed: 0']\n",
        "df"
      ],
      "metadata": {
        "colab": {
          "base_uri": "https://localhost:8080/",
          "height": 488
        },
        "id": "TzNKJEqM_f-g",
        "outputId": "a86e72cb-0c8d-43e7-b897-285506575350"
      },
      "execution_count": null,
      "outputs": [
        {
          "output_type": "execute_result",
          "data": {
            "text/plain": [
              "        duration  orig_bytes  resp_bytes  missed_bytes  orig_pkts  \\\n",
              "0       2.998796           0           0           0.0        3.0   \n",
              "1       0.000000           0           0           0.0        1.0   \n",
              "2       0.000000           0           0           0.0        1.0   \n",
              "3       2.998804           0           0           0.0        3.0   \n",
              "4       0.000000           0           0           0.0        1.0   \n",
              "...          ...         ...         ...           ...        ...   \n",
              "629620  0.000000           0           0           0.0        1.0   \n",
              "629621  0.000000           0           0           0.0        1.0   \n",
              "629622  0.000000           0           0           0.0        1.0   \n",
              "629623  0.000000           0           0           0.0        1.0   \n",
              "629624  0.000000           0           0           0.0        1.0   \n",
              "\n",
              "        orig_ip_bytes  resp_pkts  resp_ip_bytes                      label  \\\n",
              "0               180.0        0.0            0.0  PartOfAHorizontalPortScan   \n",
              "1                60.0        0.0            0.0  PartOfAHorizontalPortScan   \n",
              "2                60.0        0.0            0.0  PartOfAHorizontalPortScan   \n",
              "3               180.0        0.0            0.0                     Benign   \n",
              "4                60.0        0.0            0.0                     Benign   \n",
              "...               ...        ...            ...                        ...   \n",
              "629620           40.0        0.0            0.0                      Okiru   \n",
              "629621           40.0        0.0            0.0                      Okiru   \n",
              "629622           40.0        0.0            0.0                      Okiru   \n",
              "629623           40.0        0.0            0.0                      Okiru   \n",
              "629624           40.0        0.0            0.0                      Okiru   \n",
              "\n",
              "        proto_icmp  ...  conn_state_RSTOS0  conn_state_RSTR  conn_state_RSTRH  \\\n",
              "0                0  ...                  0                0                 0   \n",
              "1                0  ...                  0                0                 0   \n",
              "2                0  ...                  0                0                 0   \n",
              "3                0  ...                  0                0                 0   \n",
              "4                0  ...                  0                0                 0   \n",
              "...            ...  ...                ...              ...               ...   \n",
              "629620           0  ...                  0                0                 0   \n",
              "629621           0  ...                  0                0                 0   \n",
              "629622           0  ...                  0                0                 0   \n",
              "629623           0  ...                  0                0                 0   \n",
              "629624           0  ...                  0                0                 0   \n",
              "\n",
              "        conn_state_S0  conn_state_S1  conn_state_S2  conn_state_S3  \\\n",
              "0                   1              0              0              0   \n",
              "1                   1              0              0              0   \n",
              "2                   1              0              0              0   \n",
              "3                   1              0              0              0   \n",
              "4                   1              0              0              0   \n",
              "...               ...            ...            ...            ...   \n",
              "629620              1              0              0              0   \n",
              "629621              1              0              0              0   \n",
              "629622              1              0              0              0   \n",
              "629623              1              0              0              0   \n",
              "629624              1              0              0              0   \n",
              "\n",
              "        conn_state_SF  conn_state_SH  conn_state_SHR  \n",
              "0                   0              0               0  \n",
              "1                   0              0               0  \n",
              "2                   0              0               0  \n",
              "3                   0              0               0  \n",
              "4                   0              0               0  \n",
              "...               ...            ...             ...  \n",
              "629620              0              0               0  \n",
              "629621              0              0               0  \n",
              "629622              0              0               0  \n",
              "629623              0              0               0  \n",
              "629624              0              0               0  \n",
              "\n",
              "[629625 rows x 25 columns]"
            ],
            "text/html": [
              "\n",
              "  <div id=\"df-f023552a-883d-46a8-896f-e6c161964e27\">\n",
              "    <div class=\"colab-df-container\">\n",
              "      <div>\n",
              "<style scoped>\n",
              "    .dataframe tbody tr th:only-of-type {\n",
              "        vertical-align: middle;\n",
              "    }\n",
              "\n",
              "    .dataframe tbody tr th {\n",
              "        vertical-align: top;\n",
              "    }\n",
              "\n",
              "    .dataframe thead th {\n",
              "        text-align: right;\n",
              "    }\n",
              "</style>\n",
              "<table border=\"1\" class=\"dataframe\">\n",
              "  <thead>\n",
              "    <tr style=\"text-align: right;\">\n",
              "      <th></th>\n",
              "      <th>duration</th>\n",
              "      <th>orig_bytes</th>\n",
              "      <th>resp_bytes</th>\n",
              "      <th>missed_bytes</th>\n",
              "      <th>orig_pkts</th>\n",
              "      <th>orig_ip_bytes</th>\n",
              "      <th>resp_pkts</th>\n",
              "      <th>resp_ip_bytes</th>\n",
              "      <th>label</th>\n",
              "      <th>proto_icmp</th>\n",
              "      <th>...</th>\n",
              "      <th>conn_state_RSTOS0</th>\n",
              "      <th>conn_state_RSTR</th>\n",
              "      <th>conn_state_RSTRH</th>\n",
              "      <th>conn_state_S0</th>\n",
              "      <th>conn_state_S1</th>\n",
              "      <th>conn_state_S2</th>\n",
              "      <th>conn_state_S3</th>\n",
              "      <th>conn_state_SF</th>\n",
              "      <th>conn_state_SH</th>\n",
              "      <th>conn_state_SHR</th>\n",
              "    </tr>\n",
              "  </thead>\n",
              "  <tbody>\n",
              "    <tr>\n",
              "      <th>0</th>\n",
              "      <td>2.998796</td>\n",
              "      <td>0</td>\n",
              "      <td>0</td>\n",
              "      <td>0.0</td>\n",
              "      <td>3.0</td>\n",
              "      <td>180.0</td>\n",
              "      <td>0.0</td>\n",
              "      <td>0.0</td>\n",
              "      <td>PartOfAHorizontalPortScan</td>\n",
              "      <td>0</td>\n",
              "      <td>...</td>\n",
              "      <td>0</td>\n",
              "      <td>0</td>\n",
              "      <td>0</td>\n",
              "      <td>1</td>\n",
              "      <td>0</td>\n",
              "      <td>0</td>\n",
              "      <td>0</td>\n",
              "      <td>0</td>\n",
              "      <td>0</td>\n",
              "      <td>0</td>\n",
              "    </tr>\n",
              "    <tr>\n",
              "      <th>1</th>\n",
              "      <td>0.000000</td>\n",
              "      <td>0</td>\n",
              "      <td>0</td>\n",
              "      <td>0.0</td>\n",
              "      <td>1.0</td>\n",
              "      <td>60.0</td>\n",
              "      <td>0.0</td>\n",
              "      <td>0.0</td>\n",
              "      <td>PartOfAHorizontalPortScan</td>\n",
              "      <td>0</td>\n",
              "      <td>...</td>\n",
              "      <td>0</td>\n",
              "      <td>0</td>\n",
              "      <td>0</td>\n",
              "      <td>1</td>\n",
              "      <td>0</td>\n",
              "      <td>0</td>\n",
              "      <td>0</td>\n",
              "      <td>0</td>\n",
              "      <td>0</td>\n",
              "      <td>0</td>\n",
              "    </tr>\n",
              "    <tr>\n",
              "      <th>2</th>\n",
              "      <td>0.000000</td>\n",
              "      <td>0</td>\n",
              "      <td>0</td>\n",
              "      <td>0.0</td>\n",
              "      <td>1.0</td>\n",
              "      <td>60.0</td>\n",
              "      <td>0.0</td>\n",
              "      <td>0.0</td>\n",
              "      <td>PartOfAHorizontalPortScan</td>\n",
              "      <td>0</td>\n",
              "      <td>...</td>\n",
              "      <td>0</td>\n",
              "      <td>0</td>\n",
              "      <td>0</td>\n",
              "      <td>1</td>\n",
              "      <td>0</td>\n",
              "      <td>0</td>\n",
              "      <td>0</td>\n",
              "      <td>0</td>\n",
              "      <td>0</td>\n",
              "      <td>0</td>\n",
              "    </tr>\n",
              "    <tr>\n",
              "      <th>3</th>\n",
              "      <td>2.998804</td>\n",
              "      <td>0</td>\n",
              "      <td>0</td>\n",
              "      <td>0.0</td>\n",
              "      <td>3.0</td>\n",
              "      <td>180.0</td>\n",
              "      <td>0.0</td>\n",
              "      <td>0.0</td>\n",
              "      <td>Benign</td>\n",
              "      <td>0</td>\n",
              "      <td>...</td>\n",
              "      <td>0</td>\n",
              "      <td>0</td>\n",
              "      <td>0</td>\n",
              "      <td>1</td>\n",
              "      <td>0</td>\n",
              "      <td>0</td>\n",
              "      <td>0</td>\n",
              "      <td>0</td>\n",
              "      <td>0</td>\n",
              "      <td>0</td>\n",
              "    </tr>\n",
              "    <tr>\n",
              "      <th>4</th>\n",
              "      <td>0.000000</td>\n",
              "      <td>0</td>\n",
              "      <td>0</td>\n",
              "      <td>0.0</td>\n",
              "      <td>1.0</td>\n",
              "      <td>60.0</td>\n",
              "      <td>0.0</td>\n",
              "      <td>0.0</td>\n",
              "      <td>Benign</td>\n",
              "      <td>0</td>\n",
              "      <td>...</td>\n",
              "      <td>0</td>\n",
              "      <td>0</td>\n",
              "      <td>0</td>\n",
              "      <td>1</td>\n",
              "      <td>0</td>\n",
              "      <td>0</td>\n",
              "      <td>0</td>\n",
              "      <td>0</td>\n",
              "      <td>0</td>\n",
              "      <td>0</td>\n",
              "    </tr>\n",
              "    <tr>\n",
              "      <th>...</th>\n",
              "      <td>...</td>\n",
              "      <td>...</td>\n",
              "      <td>...</td>\n",
              "      <td>...</td>\n",
              "      <td>...</td>\n",
              "      <td>...</td>\n",
              "      <td>...</td>\n",
              "      <td>...</td>\n",
              "      <td>...</td>\n",
              "      <td>...</td>\n",
              "      <td>...</td>\n",
              "      <td>...</td>\n",
              "      <td>...</td>\n",
              "      <td>...</td>\n",
              "      <td>...</td>\n",
              "      <td>...</td>\n",
              "      <td>...</td>\n",
              "      <td>...</td>\n",
              "      <td>...</td>\n",
              "      <td>...</td>\n",
              "      <td>...</td>\n",
              "    </tr>\n",
              "    <tr>\n",
              "      <th>629620</th>\n",
              "      <td>0.000000</td>\n",
              "      <td>0</td>\n",
              "      <td>0</td>\n",
              "      <td>0.0</td>\n",
              "      <td>1.0</td>\n",
              "      <td>40.0</td>\n",
              "      <td>0.0</td>\n",
              "      <td>0.0</td>\n",
              "      <td>Okiru</td>\n",
              "      <td>0</td>\n",
              "      <td>...</td>\n",
              "      <td>0</td>\n",
              "      <td>0</td>\n",
              "      <td>0</td>\n",
              "      <td>1</td>\n",
              "      <td>0</td>\n",
              "      <td>0</td>\n",
              "      <td>0</td>\n",
              "      <td>0</td>\n",
              "      <td>0</td>\n",
              "      <td>0</td>\n",
              "    </tr>\n",
              "    <tr>\n",
              "      <th>629621</th>\n",
              "      <td>0.000000</td>\n",
              "      <td>0</td>\n",
              "      <td>0</td>\n",
              "      <td>0.0</td>\n",
              "      <td>1.0</td>\n",
              "      <td>40.0</td>\n",
              "      <td>0.0</td>\n",
              "      <td>0.0</td>\n",
              "      <td>Okiru</td>\n",
              "      <td>0</td>\n",
              "      <td>...</td>\n",
              "      <td>0</td>\n",
              "      <td>0</td>\n",
              "      <td>0</td>\n",
              "      <td>1</td>\n",
              "      <td>0</td>\n",
              "      <td>0</td>\n",
              "      <td>0</td>\n",
              "      <td>0</td>\n",
              "      <td>0</td>\n",
              "      <td>0</td>\n",
              "    </tr>\n",
              "    <tr>\n",
              "      <th>629622</th>\n",
              "      <td>0.000000</td>\n",
              "      <td>0</td>\n",
              "      <td>0</td>\n",
              "      <td>0.0</td>\n",
              "      <td>1.0</td>\n",
              "      <td>40.0</td>\n",
              "      <td>0.0</td>\n",
              "      <td>0.0</td>\n",
              "      <td>Okiru</td>\n",
              "      <td>0</td>\n",
              "      <td>...</td>\n",
              "      <td>0</td>\n",
              "      <td>0</td>\n",
              "      <td>0</td>\n",
              "      <td>1</td>\n",
              "      <td>0</td>\n",
              "      <td>0</td>\n",
              "      <td>0</td>\n",
              "      <td>0</td>\n",
              "      <td>0</td>\n",
              "      <td>0</td>\n",
              "    </tr>\n",
              "    <tr>\n",
              "      <th>629623</th>\n",
              "      <td>0.000000</td>\n",
              "      <td>0</td>\n",
              "      <td>0</td>\n",
              "      <td>0.0</td>\n",
              "      <td>1.0</td>\n",
              "      <td>40.0</td>\n",
              "      <td>0.0</td>\n",
              "      <td>0.0</td>\n",
              "      <td>Okiru</td>\n",
              "      <td>0</td>\n",
              "      <td>...</td>\n",
              "      <td>0</td>\n",
              "      <td>0</td>\n",
              "      <td>0</td>\n",
              "      <td>1</td>\n",
              "      <td>0</td>\n",
              "      <td>0</td>\n",
              "      <td>0</td>\n",
              "      <td>0</td>\n",
              "      <td>0</td>\n",
              "      <td>0</td>\n",
              "    </tr>\n",
              "    <tr>\n",
              "      <th>629624</th>\n",
              "      <td>0.000000</td>\n",
              "      <td>0</td>\n",
              "      <td>0</td>\n",
              "      <td>0.0</td>\n",
              "      <td>1.0</td>\n",
              "      <td>40.0</td>\n",
              "      <td>0.0</td>\n",
              "      <td>0.0</td>\n",
              "      <td>Okiru</td>\n",
              "      <td>0</td>\n",
              "      <td>...</td>\n",
              "      <td>0</td>\n",
              "      <td>0</td>\n",
              "      <td>0</td>\n",
              "      <td>1</td>\n",
              "      <td>0</td>\n",
              "      <td>0</td>\n",
              "      <td>0</td>\n",
              "      <td>0</td>\n",
              "      <td>0</td>\n",
              "      <td>0</td>\n",
              "    </tr>\n",
              "  </tbody>\n",
              "</table>\n",
              "<p>629625 rows × 25 columns</p>\n",
              "</div>\n",
              "      <button class=\"colab-df-convert\" onclick=\"convertToInteractive('df-f023552a-883d-46a8-896f-e6c161964e27')\"\n",
              "              title=\"Convert this dataframe to an interactive table.\"\n",
              "              style=\"display:none;\">\n",
              "        \n",
              "  <svg xmlns=\"http://www.w3.org/2000/svg\" height=\"24px\"viewBox=\"0 0 24 24\"\n",
              "       width=\"24px\">\n",
              "    <path d=\"M0 0h24v24H0V0z\" fill=\"none\"/>\n",
              "    <path d=\"M18.56 5.44l.94 2.06.94-2.06 2.06-.94-2.06-.94-.94-2.06-.94 2.06-2.06.94zm-11 1L8.5 8.5l.94-2.06 2.06-.94-2.06-.94L8.5 2.5l-.94 2.06-2.06.94zm10 10l.94 2.06.94-2.06 2.06-.94-2.06-.94-.94-2.06-.94 2.06-2.06.94z\"/><path d=\"M17.41 7.96l-1.37-1.37c-.4-.4-.92-.59-1.43-.59-.52 0-1.04.2-1.43.59L10.3 9.45l-7.72 7.72c-.78.78-.78 2.05 0 2.83L4 21.41c.39.39.9.59 1.41.59.51 0 1.02-.2 1.41-.59l7.78-7.78 2.81-2.81c.8-.78.8-2.07 0-2.86zM5.41 20L4 18.59l7.72-7.72 1.47 1.35L5.41 20z\"/>\n",
              "  </svg>\n",
              "      </button>\n",
              "      \n",
              "  <style>\n",
              "    .colab-df-container {\n",
              "      display:flex;\n",
              "      flex-wrap:wrap;\n",
              "      gap: 12px;\n",
              "    }\n",
              "\n",
              "    .colab-df-convert {\n",
              "      background-color: #E8F0FE;\n",
              "      border: none;\n",
              "      border-radius: 50%;\n",
              "      cursor: pointer;\n",
              "      display: none;\n",
              "      fill: #1967D2;\n",
              "      height: 32px;\n",
              "      padding: 0 0 0 0;\n",
              "      width: 32px;\n",
              "    }\n",
              "\n",
              "    .colab-df-convert:hover {\n",
              "      background-color: #E2EBFA;\n",
              "      box-shadow: 0px 1px 2px rgba(60, 64, 67, 0.3), 0px 1px 3px 1px rgba(60, 64, 67, 0.15);\n",
              "      fill: #174EA6;\n",
              "    }\n",
              "\n",
              "    [theme=dark] .colab-df-convert {\n",
              "      background-color: #3B4455;\n",
              "      fill: #D2E3FC;\n",
              "    }\n",
              "\n",
              "    [theme=dark] .colab-df-convert:hover {\n",
              "      background-color: #434B5C;\n",
              "      box-shadow: 0px 1px 3px 1px rgba(0, 0, 0, 0.15);\n",
              "      filter: drop-shadow(0px 1px 2px rgba(0, 0, 0, 0.3));\n",
              "      fill: #FFFFFF;\n",
              "    }\n",
              "  </style>\n",
              "\n",
              "      <script>\n",
              "        const buttonEl =\n",
              "          document.querySelector('#df-f023552a-883d-46a8-896f-e6c161964e27 button.colab-df-convert');\n",
              "        buttonEl.style.display =\n",
              "          google.colab.kernel.accessAllowed ? 'block' : 'none';\n",
              "\n",
              "        async function convertToInteractive(key) {\n",
              "          const element = document.querySelector('#df-f023552a-883d-46a8-896f-e6c161964e27');\n",
              "          const dataTable =\n",
              "            await google.colab.kernel.invokeFunction('convertToInteractive',\n",
              "                                                     [key], {});\n",
              "          if (!dataTable) return;\n",
              "\n",
              "          const docLinkHtml = 'Like what you see? Visit the ' +\n",
              "            '<a target=\"_blank\" href=https://colab.research.google.com/notebooks/data_table.ipynb>data table notebook</a>'\n",
              "            + ' to learn more about interactive tables.';\n",
              "          element.innerHTML = '';\n",
              "          dataTable['output_type'] = 'display_data';\n",
              "          await google.colab.output.renderOutput(dataTable, element);\n",
              "          const docLink = document.createElement('div');\n",
              "          docLink.innerHTML = docLinkHtml;\n",
              "          element.appendChild(docLink);\n",
              "        }\n",
              "      </script>\n",
              "    </div>\n",
              "  </div>\n",
              "  "
            ]
          },
          "metadata": {},
          "execution_count": 7
        }
      ]
    },
    {
      "cell_type": "code",
      "source": [
        "df.shape"
      ],
      "metadata": {
        "colab": {
          "base_uri": "https://localhost:8080/"
        },
        "id": "YjK10vNH_jAh",
        "outputId": "3fbbf487-674d-488b-bae9-8662970585cc"
      },
      "execution_count": null,
      "outputs": [
        {
          "output_type": "execute_result",
          "data": {
            "text/plain": [
              "(629625, 25)"
            ]
          },
          "metadata": {},
          "execution_count": 8
        }
      ]
    },
    {
      "cell_type": "code",
      "source": [
        "df['label'].value_counts()"
      ],
      "metadata": {
        "colab": {
          "base_uri": "https://localhost:8080/"
        },
        "id": "ztSZNSAE_m8W",
        "outputId": "e1400de6-f8d9-4087-9bdb-63131e9bb8ad"
      },
      "execution_count": null,
      "outputs": [
        {
          "output_type": "execute_result",
          "data": {
            "text/plain": [
              "PartOfAHorizontalPortScan    270635\n",
              "Benign                       158964\n",
              "Okiru                        149900\n",
              "DDoS                          39353\n",
              "C&C                            6787\n",
              "Attack                         3814\n",
              "C&C-HeartBeat                   134\n",
              "C&C-Torii                        30\n",
              "C&C-FileDownload                  8\n",
              "Name: label, dtype: int64"
            ]
          },
          "metadata": {},
          "execution_count": 9
        }
      ]
    },
    {
      "cell_type": "code",
      "source": [
        "for col in df.columns: \n",
        "    print(col) "
      ],
      "metadata": {
        "colab": {
          "base_uri": "https://localhost:8080/"
        },
        "id": "_UqqZRC5_ow7",
        "outputId": "b5460873-3151-4b12-8026-cc4a6ab30e73"
      },
      "execution_count": null,
      "outputs": [
        {
          "output_type": "stream",
          "name": "stdout",
          "text": [
            "duration\n",
            "orig_bytes\n",
            "resp_bytes\n",
            "missed_bytes\n",
            "orig_pkts\n",
            "orig_ip_bytes\n",
            "resp_pkts\n",
            "resp_ip_bytes\n",
            "label\n",
            "proto_icmp\n",
            "proto_tcp\n",
            "proto_udp\n",
            "conn_state_OTH\n",
            "conn_state_REJ\n",
            "conn_state_RSTO\n",
            "conn_state_RSTOS0\n",
            "conn_state_RSTR\n",
            "conn_state_RSTRH\n",
            "conn_state_S0\n",
            "conn_state_S1\n",
            "conn_state_S2\n",
            "conn_state_S3\n",
            "conn_state_SF\n",
            "conn_state_SH\n",
            "conn_state_SHR\n"
          ]
        }
      ]
    },
    {
      "cell_type": "code",
      "source": [
        "print(df.columns.tolist())"
      ],
      "metadata": {
        "colab": {
          "base_uri": "https://localhost:8080/"
        },
        "id": "InK63h2w_q-2",
        "outputId": "8043896f-2db2-4bf6-bb6a-064fcd98e9b6"
      },
      "execution_count": null,
      "outputs": [
        {
          "output_type": "stream",
          "name": "stdout",
          "text": [
            "['duration', 'orig_bytes', 'resp_bytes', 'missed_bytes', 'orig_pkts', 'orig_ip_bytes', 'resp_pkts', 'resp_ip_bytes', 'label', 'proto_icmp', 'proto_tcp', 'proto_udp', 'conn_state_OTH', 'conn_state_REJ', 'conn_state_RSTO', 'conn_state_RSTOS0', 'conn_state_RSTR', 'conn_state_RSTRH', 'conn_state_S0', 'conn_state_S1', 'conn_state_S2', 'conn_state_S3', 'conn_state_SF', 'conn_state_SH', 'conn_state_SHR']\n"
          ]
        }
      ]
    },
    {
      "cell_type": "code",
      "source": [
        "X = df[['duration', 'orig_bytes', 'resp_bytes', 'missed_bytes', 'orig_pkts', 'orig_ip_bytes', 'resp_pkts', 'resp_ip_bytes', 'proto_icmp', 'proto_tcp', 'proto_udp', 'conn_state_OTH', 'conn_state_REJ', 'conn_state_RSTO', 'conn_state_RSTOS0', 'conn_state_RSTR', 'conn_state_RSTRH', 'conn_state_S0', 'conn_state_S1', 'conn_state_S2', 'conn_state_S3', 'conn_state_SF', 'conn_state_SH', 'conn_state_SHR']]\n",
        "Y = df['label']"
      ],
      "metadata": {
        "id": "zjrmOYHE_rxH"
      },
      "execution_count": null,
      "outputs": []
    },
    {
      "cell_type": "code",
      "source": [
        "from sklearn.preprocessing import MinMaxScaler\n",
        "scaler = MinMaxScaler()\n",
        "scaler.fit(X)\n",
        "normalized_x = scaler.transform(X)\n",
        "normalized_x"
      ],
      "metadata": {
        "colab": {
          "base_uri": "https://localhost:8080/"
        },
        "id": "uI5Lv5t8_vA9",
        "outputId": "23b0e280-770f-46e5-ef4a-34645470de7c"
      },
      "execution_count": null,
      "outputs": [
        {
          "output_type": "execute_result",
          "data": {
            "text/plain": [
              "array([[8.16450401e-05, 1.32368587e-08, 6.08764998e-06, ...,\n",
              "        0.00000000e+00, 0.00000000e+00, 0.00000000e+00],\n",
              "       [2.04174057e-05, 1.32368587e-08, 6.08764998e-06, ...,\n",
              "        0.00000000e+00, 0.00000000e+00, 0.00000000e+00],\n",
              "       [2.04174057e-05, 1.32368587e-08, 6.08764998e-06, ...,\n",
              "        0.00000000e+00, 0.00000000e+00, 0.00000000e+00],\n",
              "       ...,\n",
              "       [2.04174057e-05, 1.32368587e-08, 6.08764998e-06, ...,\n",
              "        0.00000000e+00, 0.00000000e+00, 0.00000000e+00],\n",
              "       [2.04174057e-05, 1.32368587e-08, 6.08764998e-06, ...,\n",
              "        0.00000000e+00, 0.00000000e+00, 0.00000000e+00],\n",
              "       [2.04174057e-05, 1.32368587e-08, 6.08764998e-06, ...,\n",
              "        0.00000000e+00, 0.00000000e+00, 0.00000000e+00]])"
            ]
          },
          "metadata": {},
          "execution_count": 13
        }
      ]
    },
    {
      "cell_type": "code",
      "source": [
        "from sklearn.naive_bayes import GaussianNB"
      ],
      "metadata": {
        "id": "oLpESQCx_w0l"
      },
      "execution_count": null,
      "outputs": []
    },
    {
      "cell_type": "code",
      "source": [
        "X_train, X_test, Y_train, Y_test = train_test_split(normalized_x, Y, random_state=100, test_size=0.2)"
      ],
      "metadata": {
        "id": "CdHEVv4t_zVQ"
      },
      "execution_count": null,
      "outputs": []
    },
    {
      "cell_type": "code",
      "source": [
        "clf = GaussianNB()\n",
        "clf.fit(X_train, Y_train)"
      ],
      "metadata": {
        "colab": {
          "base_uri": "https://localhost:8080/"
        },
        "id": "QSAM5V8X_1KB",
        "outputId": "849eac26-a106-4217-808b-5ce906dd2308"
      },
      "execution_count": null,
      "outputs": [
        {
          "output_type": "execute_result",
          "data": {
            "text/plain": [
              "GaussianNB()"
            ]
          },
          "metadata": {},
          "execution_count": 16
        }
      ]
    },
    {
      "cell_type": "code",
      "source": [
        "start = time.time()\n",
        "print('program start...')\n",
        "print()\n",
        "\n",
        "clf = GaussianNB().fit(X_train, Y_train)\n",
        "print()\n",
        "print(clf.score(X_test, Y_test))\n",
        "print()\n",
        "\n",
        "y_pred = clf.fit(X_train, Y_train).predict(X_test)\n",
        "print(y_pred)\n",
        "print()\n",
        "\n",
        "end = time.time()\n",
        "print('program end...')\n",
        "print()\n",
        "print('time cost: ')\n",
        "print(end - start, 'seconds')"
      ],
      "metadata": {
        "colab": {
          "base_uri": "https://localhost:8080/"
        },
        "id": "nF1nvMAy_3bF",
        "outputId": "a0e5755f-2e51-4dc6-c219-4cfb569f6b88"
      },
      "execution_count": null,
      "outputs": [
        {
          "output_type": "stream",
          "name": "stdout",
          "text": [
            "program start...\n",
            "\n",
            "\n",
            "0.35028786976374826\n",
            "\n",
            "['Okiru' 'Okiru' 'Okiru' ... 'Okiru' 'Okiru' 'Okiru']\n",
            "\n",
            "program end...\n",
            "\n",
            "time cost: \n",
            "3.2050435543060303 seconds\n"
          ]
        }
      ]
    },
    {
      "cell_type": "code",
      "source": [
        "print(\"Classifiction Report :\")\n",
        "print(classification_report(Y_test, y_pred))"
      ],
      "metadata": {
        "colab": {
          "base_uri": "https://localhost:8080/"
        },
        "id": "ORqBd-xA_5xG",
        "outputId": "d69ebb7c-55ee-427c-fe18-792cdf0ec5ec"
      },
      "execution_count": null,
      "outputs": [
        {
          "output_type": "stream",
          "name": "stdout",
          "text": [
            "Classifiction Report :\n",
            "                           precision    recall  f1-score   support\n",
            "\n",
            "                   Attack       0.80      1.00      0.89       748\n",
            "                   Benign       1.00      0.32      0.48     31705\n",
            "                      C&C       0.98      0.23      0.37      1371\n",
            "         C&C-FileDownload       1.00      1.00      1.00         2\n",
            "            C&C-HeartBeat       0.00      0.57      0.00        30\n",
            "                C&C-Torii       0.01      0.17      0.01         6\n",
            "                     DDoS       1.00      0.36      0.53      7888\n",
            "                    Okiru       0.34      1.00      0.51     30108\n",
            "PartOfAHorizontalPortScan       1.00      0.00      0.00     54067\n",
            "\n",
            "                 accuracy                           0.35    125925\n",
            "                macro avg       0.68      0.52      0.42    125925\n",
            "             weighted avg       0.84      0.35      0.29    125925\n",
            "\n"
          ]
        }
      ]
    }
  ]
}